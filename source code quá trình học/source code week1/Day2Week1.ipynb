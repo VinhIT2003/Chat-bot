{
 "cells": [
  {
   "cell_type": "code",
   "execution_count": 11,
   "id": "1273c877-05a7-440b-bbd8-d3888450a698",
   "metadata": {},
   "outputs": [],
   "source": [
    "import requests\n",
    "from bs4 import BeautifulSoup\n",
    "from IPython.display import Markdown, display"
   ]
  },
  {
   "cell_type": "code",
   "execution_count": 21,
   "id": "2b571d68-d4d7-4abf-babb-731ec163969d",
   "metadata": {},
   "outputs": [],
   "source": [
    "OLLAMA_API = \"http://localhost:11434/api/chat\"\n",
    "HEADERS = {\"Content-Type\": \"application/json\"}\n",
    "MODEL = \"llama3.2\""
   ]
  },
  {
   "cell_type": "code",
   "execution_count": 23,
   "id": "a7e26979-f460-4e7b-b67b-64b12ba7711e",
   "metadata": {},
   "outputs": [],
   "source": [
    "messages = [\n",
    "    {\"role\": \"user\", \"content\": \"Describe some of the business applications of Generative AI\"}\n",
    "]"
   ]
  },
  {
   "cell_type": "code",
   "execution_count": 25,
   "id": "aff47807-2f33-4f57-9f50-499d91b5d953",
   "metadata": {},
   "outputs": [],
   "source": [
    "payload = {\n",
    "        \"model\": MODEL,\n",
    "        \"messages\": messages,\n",
    "        \"stream\": False\n",
    "    }"
   ]
  },
  {
   "cell_type": "code",
   "execution_count": null,
   "id": "8068e10d-5110-471d-af06-1b514d92d2e5",
   "metadata": {},
   "outputs": [],
   "source": [
    "!ollama pull llama3.2"
   ]
  },
  {
   "cell_type": "code",
   "execution_count": 27,
   "id": "9bca7972-27f2-406d-8954-d89e4c25f012",
   "metadata": {
    "scrolled": true
   },
   "outputs": [
    {
     "name": "stdout",
     "output_type": "stream",
     "text": [
      "Generative AI has numerous business applications across various industries. Here are some examples:\n",
      "\n",
      "1. **Content Generation**: Generative AI can create high-quality, engaging content such as blog posts, social media posts, product descriptions, and more. This saves time and resources for content creation teams.\n",
      "2. **Image and Video Generation**: Generative AI can generate images and videos that mimic real-world scenes or objects, which can be used in applications like:\n",
      " * Advertising and marketing (e.g., product photography)\n",
      " * Social media (e.g., visually appealing graphics)\n",
      " * Education (e.g., interactive learning materials)\n",
      "3. **Chatbots and Virtual Assistants**: Generative AI enables the creation of more natural-sounding chatbots and virtual assistants that can understand context and respond accordingly.\n",
      "4. **Personalized Recommendations**: Generative AI can analyze customer data and preferences to generate personalized product recommendations, improving user experience and increasing sales.\n",
      "5. **Predictive Analytics**: Generative AI can analyze historical data to predict future trends and patterns, helping businesses make informed decisions about investments, resource allocation, and risk management.\n",
      "6. **Automated Data Labeling**: Generative AI can automatically label data, reducing the need for manual labeling and freeing up resources for more strategic activities.\n",
      "7. **Creative Writing Assistance**: Generative AI can assist writers in generating ideas, completing tasks, or even creating entire articles, helping to augment human creativity.\n",
      "8. **Music Composition and Sound Design**: Generative AI can create original music compositions and sound effects, revolutionizing the music and audio industries.\n",
      "9. **Automated Content Editing**: Generative AI can edit and proofread content, improving grammar, syntax, and overall readability.\n",
      "10. **Cybersecurity Threat Analysis**: Generative AI can analyze network traffic and detect potential security threats in real-time, helping organizations stay ahead of cyber attacks.\n",
      "\n",
      "Some specific business applications of Generative AI include:\n",
      "\n",
      "* **Customer Service Chatbots**: Companies like Amazon and Walmart use Generative AI to power their chatbots, providing customers with fast and accurate support.\n",
      "* **Personalized Marketing Campaigns**: Retailers like Sephora and Macy's use Generative AI to create personalized product recommendations based on customer data and behavior.\n",
      "* **Automated Content Creation**: Brands like HubSpot and Moz use Generative AI to generate high-quality content, such as blog posts and social media updates.\n",
      "* **Creative Agencies**: Advertising agencies like Wieden+Kennedy and BBDO use Generative AI to create innovative ad campaigns and visuals.\n",
      "\n",
      "These are just a few examples of the many business applications of Generative AI. As the technology continues to evolve, we can expect to see even more innovative uses across various industries.\n"
     ]
    }
   ],
   "source": [
    "response = requests.post(OLLAMA_API, json=payload, headers=HEADERS)\n",
    "print(response.json()['message']['content'])"
   ]
  },
  {
   "cell_type": "code",
   "execution_count": 29,
   "id": "2a313a6b-35f5-4e74-a2ba-f75f5286cd4e",
   "metadata": {
    "scrolled": true
   },
   "outputs": [
    {
     "name": "stdout",
     "output_type": "stream",
     "text": [
      "Generative AI has numerous business applications across various industries, including:\n",
      "\n",
      "1. **Content Creation**: Generative AI can generate high-quality content such as articles, social media posts, product descriptions, and even entire books. This can save time and resources for content creators and help businesses to maintain a consistent tone and style.\n",
      "2. **Product Design and Prototyping**: Generative AI can create 3D models, designs, and prototypes for products, allowing businesses to quickly test and refine their ideas without the need for extensive design expertise.\n",
      "3. **Marketing and Advertising**: Generative AI can generate personalized advertisements, social media campaigns, and even entire marketing strategies based on customer data and preferences.\n",
      "4. **Customer Service Chatbots**: Generative AI-powered chatbots can provide 24/7 customer support, answering frequently asked questions, and routing complex issues to human representatives.\n",
      "5. **Supply Chain Optimization**: Generative AI can analyze supply chain data to predict demand fluctuations, optimize inventory levels, and identify potential bottlenecks, leading to reduced costs and improved efficiency.\n",
      "6. **Financial Analysis and Forecasting**: Generative AI can analyze financial data to identify trends, predict market movements, and generate forecasts, helping businesses make informed investment decisions.\n",
      "7. **Image and Video Generation**: Generative AI can create high-quality images and videos for marketing materials, product demonstrations, and even entire video productions.\n",
      "8. **Audio Processing and Music Composition**: Generative AI can generate music tracks, audio loops, and sound effects for films, TV shows, and commercials.\n",
      "9. **Language Translation**: Generative AI-powered translation tools can translate text, speech, and even entire documents in real-time, breaking language barriers and improving global communication.\n",
      "10. **Predictive Maintenance**: Generative AI can analyze sensor data to predict equipment failures, reducing downtime and increasing overall efficiency for industries such as manufacturing, transportation, and energy.\n",
      "\n",
      "Some specific business applications of Generative AI include:\n",
      "\n",
      "* Autodesk's generative design tool, which allows users to generate 3D models based on real-world constraints.\n",
      "* Google's DeepMind technology, which can generate realistic images and videos from text descriptions.\n",
      "* IBM's Watson Assistant, which uses generative AI to power its chatbots and customer service platforms.\n",
      "* Salesforce's Einstein AI platform, which provides predictive analytics and automation capabilities for businesses.\n",
      "\n",
      "These are just a few examples of the many business applications of Generative AI. As the technology continues to evolve, we can expect to see even more innovative uses across various industries.\n"
     ]
    }
   ],
   "source": [
    "import ollama\n",
    "\n",
    "response = ollama.chat(model=MODEL, messages=messages)\n",
    "print(response['message']['content'])"
   ]
  },
  {
   "cell_type": "code",
   "execution_count": 32,
   "id": "a0712b78-f7fe-478a-8852-02a2811cbc69",
   "metadata": {},
   "outputs": [
    {
     "name": "stdout",
     "output_type": "stream",
     "text": [
      "Generative AI has numerous business applications across various industries. Here are some examples:\n",
      "\n",
      "1. **Content Generation**: Generative AI can be used to create high-quality content, such as blog posts, social media posts, product descriptions, and even entire articles. This can help businesses save time and resources previously spent on writing and editing.\n",
      "2. **Product Design**: Generative AI can assist in designing new products, such as fashion designs, architectural designs, or even product packaging. This can help reduce design costs and accelerate innovation.\n",
      "3. **Image and Video Generation**: Generative AI can create realistic images and videos that can be used for advertising, marketing, and social media campaigns. For example, it can generate custom images of products, landscapes, or characters.\n",
      "4. **Chatbots and Virtual Assistants**: Generative AI can power chatbots and virtual assistants, enabling businesses to provide 24/7 customer support and improve the user experience.\n",
      "5. **Sales and Marketing Automation**: Generative AI can be used to automate sales and marketing processes, such as personalized email campaigns, lead generation, and predictive analytics.\n",
      "6. **Data Analysis and Visualization**: Generative AI can help analyze large datasets and generate insights that would otherwise require extensive manual analysis. This can aid in data-driven decision-making.\n",
      "7. **Natural Language Processing (NLP)**: Generative AI is improving language understanding capabilities. This enables businesses to improve their NLP processes, such as sentiment analysis, text classification, and text generation.\n",
      "\n",
      "Some specific business applications of generative AI include:\n",
      "\n",
      "* **Personalized user experiences**: Using generative AI to create customized customer experiences, product recommendations, or personalized content.\n",
      "* **Predictive maintenance**: Utilizing generative AI to predict equipment failures, reduce downtime, and improve overall efficiency.\n",
      "* **Medical diagnosis**: Applying generative AI to analyze medical data, diagnose diseases more accurately, and develop treatment plans.\n",
      "* **Cybersecurity**: Using generative AI to detect phishing attacks, create advanced threat modeling, and prioritize critical security features.\n",
      "\n",
      "While these business applications have the potential to transform various industries, there are also important considerations on ethics related specifically with application.\n"
     ]
    }
   ],
   "source": [
    "from openai import OpenAI\n",
    "ollama_via_openai = OpenAI(base_url='http://localhost:11434/v1', api_key='ollama')\n",
    "\n",
    "response = ollama_via_openai.chat.completions.create(\n",
    "    model=MODEL,\n",
    "    messages=messages\n",
    ")\n",
    "\n",
    "print(response.choices[0].message.content)"
   ]
  },
  {
   "cell_type": "code",
   "execution_count": null,
   "id": "e13f1d1a-4d9e-4354-9677-a3d30c055af0",
   "metadata": {},
   "outputs": [],
   "source": []
  }
 ],
 "metadata": {
  "kernelspec": {
   "display_name": "Python [conda env:base] *",
   "language": "python",
   "name": "conda-base-py"
  },
  "language_info": {
   "codemirror_mode": {
    "name": "ipython",
    "version": 3
   },
   "file_extension": ".py",
   "mimetype": "text/x-python",
   "name": "python",
   "nbconvert_exporter": "python",
   "pygments_lexer": "ipython3",
   "version": "3.12.7"
  }
 },
 "nbformat": 4,
 "nbformat_minor": 5
}
